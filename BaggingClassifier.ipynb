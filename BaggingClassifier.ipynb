{
 "cells": [
  {
   "cell_type": "code",
   "execution_count": 1,
   "metadata": {},
   "outputs": [],
   "source": [
    "import os\n",
    "import numpy as np\n",
    "from sklearn.ensemble import BaggingClassifier\n",
    "from sklearn.tree import DecisionTreeClassifier\n",
    "from sklearn.metrics import accuracy_score\n",
    "import joblib"
   ]
  },
  {
   "cell_type": "code",
   "execution_count": 2,
   "metadata": {},
   "outputs": [],
   "source": [
    "# Carregar os dados de treinamento e teste\n",
    "test_x = np.fromfile(\"test.txt\", dtype=np.uint8).reshape((20000, 32, 32, 3)) / 255\n",
    "train_x = np.fromfile(\"train.txt\", dtype=np.uint8).reshape((100000, 32, 32, 3)) / 255"
   ]
  },
  {
   "cell_type": "code",
   "execution_count": 3,
   "metadata": {},
   "outputs": [],
   "source": [
    "test_y = np.append(np.zeros((10000,)), np.ones((10000,)))\n",
    "train_y = np.append(np.zeros((50000,)), np.ones((50000,)))"
   ]
  },
  {
   "attachments": {},
   "cell_type": "markdown",
   "metadata": {},
   "source": [
    "O BaggingClassifier espera receber uma matriz de características X de forma (n_samples, n_features).\n",
    "No caso do conjunto de dados CIFAKE fornecido, as imagens estão no formato (n_samples, height, width, channels)."
   ]
  },
  {
   "cell_type": "code",
   "execution_count": 4,
   "metadata": {},
   "outputs": [],
   "source": [
    "# Ajustar o formato dos dados para o modelo BaggingClassifier\n",
    "train_x_reshaped = train_x.reshape((100000, 32 * 32 * 3))\n",
    "test_x_reshaped = test_x.reshape((20000, 32 * 32 * 3))"
   ]
  },
  {
   "cell_type": "code",
   "execution_count": 5,
   "metadata": {},
   "outputs": [
    {
     "data": {
      "text/plain": [
       "(100000, 3072)"
      ]
     },
     "execution_count": 5,
     "metadata": {},
     "output_type": "execute_result"
    }
   ],
   "source": [
    "train_x_reshaped.shape"
   ]
  },
  {
   "cell_type": "code",
   "execution_count": 6,
   "metadata": {},
   "outputs": [],
   "source": [
    "# Criar o modelo BaggingClassifier com base em DecisionTreeClassifier\n",
    "base_model = DecisionTreeClassifier()\n",
    "bagging_model = BaggingClassifier(base_model, n_estimators=10, random_state=42)\n"
   ]
  },
  {
   "cell_type": "code",
   "execution_count": 7,
   "metadata": {},
   "outputs": [],
   "source": [
    "# Treinar o modelo\n",
    "if os.path.exists('bagging_files/bagging_model.joblib'):\n",
    "    bagging_model = joblib.load('bagging_files/bagging_model.joblib')\n",
    "else:\n",
    "    # Salvar o modelo treinado\n",
    "    bagging_model.fit(train_x_reshaped, train_y)\n",
    "    joblib.dump(bagging_model, 'bagging_files/bagging_model.joblib')"
   ]
  },
  {
   "cell_type": "code",
   "execution_count": 8,
   "metadata": {},
   "outputs": [],
   "source": [
    "# Fazer previsões no conjunto de teste\n",
    "if os.path.exists('bagging_files/y_pred.npy'):\n",
    "    bagging_y_pred = np.load('bagging_files/y_pred.npy')\n",
    "else:\n",
    "    # Salvar as previsões no conjunto de teste\n",
    "    y_pred = bagging_model.predict(test_x_reshaped)\n",
    "    np.save('bagging_files/y_pred.npy', y_pred)"
   ]
  },
  {
   "cell_type": "code",
   "execution_count": 9,
   "metadata": {},
   "outputs": [
    {
     "name": "stdout",
     "output_type": "stream",
     "text": [
      "Accuracy: 0.78175\n"
     ]
    }
   ],
   "source": [
    "# Calcular a acurácia\n",
    "accuracy = accuracy_score(test_y, y_pred)\n",
    "\n",
    "# Imprimir a acurácia\n",
    "print(\"Accuracy:\", accuracy)"
   ]
  }
 ],
 "metadata": {
  "kernelspec": {
   "display_name": "ML",
   "language": "python",
   "name": "python3"
  },
  "language_info": {
   "codemirror_mode": {
    "name": "ipython",
    "version": 3
   },
   "file_extension": ".py",
   "mimetype": "text/x-python",
   "name": "python",
   "nbconvert_exporter": "python",
   "pygments_lexer": "ipython3",
   "version": "3.9.16"
  },
  "orig_nbformat": 4
 },
 "nbformat": 4,
 "nbformat_minor": 2
}
